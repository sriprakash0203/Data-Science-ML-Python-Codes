{
 "cells": [
  {
   "cell_type": "code",
   "execution_count": 1,
   "id": "b4249a10",
   "metadata": {},
   "outputs": [],
   "source": [
    "import pandas as pd \n",
    "import numpy as np\n",
    "import scipy\n",
    "from scipy import stats"
   ]
  },
  {
   "cell_type": "markdown",
   "id": "73a308e4",
   "metadata": {},
   "source": [
    "# Super Market example"
   ]
  },
  {
   "cell_type": "code",
   "execution_count": 2,
   "id": "9e5061bf",
   "metadata": {},
   "outputs": [],
   "source": [
    "# ho:u <= 120\n",
    "# h1:u > 120\n",
    "# x bar = 130, n=80, sigma = 40"
   ]
  },
  {
   "cell_type": "code",
   "execution_count": 3,
   "id": "b353a2ec",
   "metadata": {},
   "outputs": [
    {
     "data": {
      "text/plain": [
       "2.23606797749979"
      ]
     },
     "execution_count": 3,
     "metadata": {},
     "output_type": "execute_result"
    }
   ],
   "source": [
    "(130-120)/(40/pow(80,0.5))"
   ]
  },
  {
   "cell_type": "code",
   "execution_count": 4,
   "id": "ac852079",
   "metadata": {},
   "outputs": [
    {
     "data": {
      "text/plain": [
       "0.014292908802574056"
      ]
     },
     "execution_count": 4,
     "metadata": {},
     "output_type": "execute_result"
    }
   ],
   "source": [
    "1-stats.t.cdf(2.23,df=79) # commulative distributive function:- tells the area between left to right "
   ]
  },
  {
   "cell_type": "markdown",
   "id": "ca3736f9",
   "metadata": {},
   "source": [
    "# Call Center example"
   ]
  },
  {
   "cell_type": "code",
   "execution_count": 5,
   "id": "85b2bba4",
   "metadata": {},
   "outputs": [
    {
     "data": {
      "text/plain": [
       "1.4142135623730943"
      ]
     },
     "execution_count": 5,
     "metadata": {},
     "output_type": "execute_result"
    }
   ],
   "source": [
    "(4.6-4)/(3/np.sqrt(50))"
   ]
  },
  {
   "cell_type": "code",
   "execution_count": 6,
   "id": "06d69afb",
   "metadata": {},
   "outputs": [
    {
     "data": {
      "text/plain": [
       "0.1648559451804547"
      ]
     },
     "execution_count": 6,
     "metadata": {},
     "output_type": "execute_result"
    }
   ],
   "source": [
    "2*stats.t.cdf(-1.41,df=49)"
   ]
  },
  {
   "cell_type": "code",
   "execution_count": 7,
   "id": "0c591405",
   "metadata": {},
   "outputs": [
    {
     "name": "stdout",
     "output_type": "stream",
     "text": [
      "0.16362201811838478\n"
     ]
    }
   ],
   "source": [
    "TS=(4.6-4)/(3/np.sqrt(50))\n",
    "p_value=2*stats.t.cdf(-TS,df=49)\n",
    "print(p_value)"
   ]
  },
  {
   "cell_type": "markdown",
   "id": "6305a7fd",
   "metadata": {},
   "source": [
    "# One sample test"
   ]
  },
  {
   "cell_type": "code",
   "execution_count": 8,
   "id": "1bdadf68",
   "metadata": {},
   "outputs": [],
   "source": [
    "data=[0.593, 0.142, 0.329, 0.691, 0.231, 0.793, 0.519, 0.392, 0.418]"
   ]
  },
  {
   "cell_type": "code",
   "execution_count": 10,
   "id": "362cc3f9",
   "metadata": {},
   "outputs": [],
   "source": [
    "#'two-sided', 'less', 'greater'"
   ]
  },
  {
   "cell_type": "code",
   "execution_count": 11,
   "id": "310bc0d4",
   "metadata": {},
   "outputs": [
    {
     "data": {
      "text/plain": [
       "Ttest_1sampResult(statistic=2.2050588385131595, pvalue=0.029265164842448826)"
      ]
     },
     "execution_count": 11,
     "metadata": {},
     "output_type": "execute_result"
    }
   ],
   "source": [
    "p=scipy.stats.ttest_1samp(data,0.3,alternative=\"greater\")\n",
    "p"
   ]
  },
  {
   "cell_type": "markdown",
   "id": "c4edfbfc",
   "metadata": {},
   "source": [
    "# Two sample test"
   ]
  },
  {
   "cell_type": "code",
   "execution_count": 12,
   "id": "7b568b5c",
   "metadata": {},
   "outputs": [],
   "source": [
    "Control=pd.Series([91, 87, 99, 77, 88, 91])\n",
    "Treat =pd.Series([101, 110, 103, 93, 99, 104])  "
   ]
  },
  {
   "cell_type": "code",
   "execution_count": 13,
   "id": "5bcd50ed",
   "metadata": {},
   "outputs": [
    {
     "data": {
      "text/plain": [
       "Ttest_indResult(statistic=-3.445612673536487, pvalue=0.006272124350809803)"
      ]
     },
     "execution_count": 13,
     "metadata": {},
     "output_type": "execute_result"
    }
   ],
   "source": [
    "stats.ttest_ind( Control,Treat,alternative=\"two-sided\")"
   ]
  },
  {
   "cell_type": "markdown",
   "id": "f5f1e949",
   "metadata": {},
   "source": [
    "# 2 Proportion Test"
   ]
  },
  {
   "cell_type": "code",
   "execution_count": 14,
   "id": "3719cef6",
   "metadata": {},
   "outputs": [],
   "source": [
    "import numpy as np"
   ]
  },
  {
   "cell_type": "code",
   "execution_count": 15,
   "id": "8ac5f192",
   "metadata": {},
   "outputs": [],
   "source": [
    "#generating Data:\n",
    "\n",
    "n1 = 1000000\n",
    "p1 = 0.491\n",
    "\n",
    "n2 = 1000000\n",
    "p2 = 0.493"
   ]
  },
  {
   "cell_type": "code",
   "execution_count": 16,
   "id": "7273c236",
   "metadata": {},
   "outputs": [],
   "source": [
    "sample1 = np.random.binomial(1, p1, n1)\n",
    "sample2 = np.random.binomial(1, p2, n2)"
   ]
  },
  {
   "cell_type": "code",
   "execution_count": 17,
   "id": "4411ed36",
   "metadata": {},
   "outputs": [
    {
     "data": {
      "text/plain": [
       "array([1, 1, 0, ..., 1, 0, 1])"
      ]
     },
     "execution_count": 17,
     "metadata": {},
     "output_type": "execute_result"
    }
   ],
   "source": [
    "sample1"
   ]
  },
  {
   "cell_type": "code",
   "execution_count": 18,
   "id": "7f3cd854",
   "metadata": {},
   "outputs": [
    {
     "data": {
      "text/plain": [
       "(-3.2516604427375477, 0.001147348987071537, 1999998.0)"
      ]
     },
     "execution_count": 18,
     "metadata": {},
     "output_type": "execute_result"
    }
   ],
   "source": [
    "import statsmodels.api as sm\n",
    "sm.stats.ttest_ind(sample1, sample2)"
   ]
  },
  {
   "cell_type": "code",
   "execution_count": null,
   "id": "e64e2616",
   "metadata": {},
   "outputs": [],
   "source": []
  }
 ],
 "metadata": {
  "kernelspec": {
   "display_name": "Python 3 (ipykernel)",
   "language": "python",
   "name": "python3"
  },
  "language_info": {
   "codemirror_mode": {
    "name": "ipython",
    "version": 3
   },
   "file_extension": ".py",
   "mimetype": "text/x-python",
   "name": "python",
   "nbconvert_exporter": "python",
   "pygments_lexer": "ipython3",
   "version": "3.9.7"
  }
 },
 "nbformat": 4,
 "nbformat_minor": 5
}
