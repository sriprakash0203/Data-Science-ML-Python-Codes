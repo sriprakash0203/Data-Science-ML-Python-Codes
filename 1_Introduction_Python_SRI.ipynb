{
 "cells": [
  {
   "cell_type": "markdown",
   "id": "1e3aafcf",
   "metadata": {},
   "source": [
    "# basic alg operation"
   ]
  },
  {
   "cell_type": "code",
   "execution_count": 1,
   "id": "47bf9594",
   "metadata": {},
   "outputs": [
    {
     "data": {
      "text/plain": [
       "5"
      ]
     },
     "execution_count": 1,
     "metadata": {},
     "output_type": "execute_result"
    }
   ],
   "source": [
    "2+3"
   ]
  },
  {
   "cell_type": "code",
   "execution_count": 2,
   "id": "711d1054",
   "metadata": {
    "scrolled": true
   },
   "outputs": [
    {
     "data": {
      "text/plain": [
       "-1"
      ]
     },
     "execution_count": 2,
     "metadata": {},
     "output_type": "execute_result"
    }
   ],
   "source": [
    "2-3"
   ]
  },
  {
   "cell_type": "code",
   "execution_count": 3,
   "id": "4f246a08",
   "metadata": {},
   "outputs": [
    {
     "data": {
      "text/plain": [
       "6"
      ]
     },
     "execution_count": 3,
     "metadata": {},
     "output_type": "execute_result"
    }
   ],
   "source": [
    "2*3"
   ]
  },
  {
   "cell_type": "code",
   "execution_count": 4,
   "id": "9ca491a3",
   "metadata": {},
   "outputs": [
    {
     "data": {
      "text/plain": [
       "4.0"
      ]
     },
     "execution_count": 4,
     "metadata": {},
     "output_type": "execute_result"
    }
   ],
   "source": [
    "12/3"
   ]
  },
  {
   "cell_type": "code",
   "execution_count": 5,
   "id": "6f635e1b",
   "metadata": {},
   "outputs": [
    {
     "data": {
      "text/plain": [
       "2"
      ]
     },
     "execution_count": 5,
     "metadata": {},
     "output_type": "execute_result"
    }
   ],
   "source": [
    "12%5"
   ]
  },
  {
   "cell_type": "code",
   "execution_count": 6,
   "id": "88170340",
   "metadata": {},
   "outputs": [
    {
     "data": {
      "text/plain": [
       "2"
      ]
     },
     "execution_count": 6,
     "metadata": {},
     "output_type": "execute_result"
    }
   ],
   "source": [
    "12//5"
   ]
  },
  {
   "cell_type": "code",
   "execution_count": 7,
   "id": "fd59dead",
   "metadata": {},
   "outputs": [
    {
     "data": {
      "text/plain": [
       "25"
      ]
     },
     "execution_count": 7,
     "metadata": {},
     "output_type": "execute_result"
    }
   ],
   "source": [
    "5**2"
   ]
  },
  {
   "cell_type": "code",
   "execution_count": 8,
   "id": "992117a9",
   "metadata": {},
   "outputs": [
    {
     "data": {
      "text/plain": [
       "25"
      ]
     },
     "execution_count": 8,
     "metadata": {},
     "output_type": "execute_result"
    }
   ],
   "source": [
    "pow(5,2)"
   ]
  },
  {
   "cell_type": "markdown",
   "id": "3158bb0a",
   "metadata": {},
   "source": [
    "# variables"
   ]
  },
  {
   "cell_type": "code",
   "execution_count": 9,
   "id": "c3a7f439",
   "metadata": {},
   "outputs": [],
   "source": [
    "x=25"
   ]
  },
  {
   "cell_type": "code",
   "execution_count": 10,
   "id": "0e059c7a",
   "metadata": {},
   "outputs": [
    {
     "data": {
      "text/plain": [
       "2346091899952"
      ]
     },
     "execution_count": 10,
     "metadata": {},
     "output_type": "execute_result"
    }
   ],
   "source": [
    "id(x)"
   ]
  },
  {
   "cell_type": "code",
   "execution_count": 13,
   "id": "acb6d23c",
   "metadata": {},
   "outputs": [],
   "source": [
    "x=10\n",
    "y=20"
   ]
  },
  {
   "cell_type": "code",
   "execution_count": 15,
   "id": "1c376831",
   "metadata": {},
   "outputs": [],
   "source": [
    "tem=x\n",
    "x=y\n",
    "y=tem"
   ]
  },
  {
   "cell_type": "code",
   "execution_count": 16,
   "id": "43b57ff8",
   "metadata": {},
   "outputs": [
    {
     "data": {
      "text/plain": [
       "20"
      ]
     },
     "execution_count": 16,
     "metadata": {},
     "output_type": "execute_result"
    }
   ],
   "source": [
    "x"
   ]
  },
  {
   "cell_type": "code",
   "execution_count": 17,
   "id": "e7fb8b0f",
   "metadata": {},
   "outputs": [
    {
     "data": {
      "text/plain": [
       "20"
      ]
     },
     "execution_count": 17,
     "metadata": {},
     "output_type": "execute_result"
    }
   ],
   "source": [
    "y"
   ]
  },
  {
   "cell_type": "code",
   "execution_count": 18,
   "id": "1849afc9",
   "metadata": {},
   "outputs": [],
   "source": [
    "x=10\n",
    "y=29\n",
    "x,y,x=x+10,y+20,x*y"
   ]
  },
  {
   "cell_type": "code",
   "execution_count": 19,
   "id": "dda01ade",
   "metadata": {},
   "outputs": [
    {
     "data": {
      "text/plain": [
       "290"
      ]
     },
     "execution_count": 19,
     "metadata": {},
     "output_type": "execute_result"
    }
   ],
   "source": [
    "x"
   ]
  },
  {
   "cell_type": "code",
   "execution_count": 20,
   "id": "a46d7ff0",
   "metadata": {},
   "outputs": [
    {
     "data": {
      "text/plain": [
       "49"
      ]
     },
     "execution_count": 20,
     "metadata": {},
     "output_type": "execute_result"
    }
   ],
   "source": [
    "y"
   ]
  },
  {
   "cell_type": "markdown",
   "id": "9afd9614",
   "metadata": {},
   "source": [
    "# datatypes"
   ]
  },
  {
   "cell_type": "code",
   "execution_count": 21,
   "id": "6a8b092c",
   "metadata": {},
   "outputs": [
    {
     "ename": "SyntaxError",
     "evalue": "invalid syntax (Temp/ipykernel_5056/2561212477.py, line 1)",
     "output_type": "error",
     "traceback": [
      "\u001b[1;36m  File \u001b[1;32m\"C:\\Users\\asus\\AppData\\Local\\Temp/ipykernel_5056/2561212477.py\"\u001b[1;36m, line \u001b[1;32m1\u001b[0m\n\u001b[1;33m    ......\u001b[0m\n\u001b[1;37m       ^\u001b[0m\n\u001b[1;31mSyntaxError\u001b[0m\u001b[1;31m:\u001b[0m invalid syntax\n"
     ]
    }
   ],
   "source": [
    "......\n",
    "\n",
    "int\n",
    "float\n",
    "str\n",
    "list\n",
    "tuple\n",
    "dict\n",
    "set\n",
    "bool\n",
    "numpy--> array\n",
    "pandas-> df(data frame)\n",
    "\n",
    "....."
   ]
  },
  {
   "cell_type": "code",
   "execution_count": 22,
   "id": "19bc8a75",
   "metadata": {},
   "outputs": [
    {
     "data": {
      "text/plain": [
       "int"
      ]
     },
     "execution_count": 22,
     "metadata": {},
     "output_type": "execute_result"
    }
   ],
   "source": [
    "x=10\n",
    "type(x)"
   ]
  },
  {
   "cell_type": "code",
   "execution_count": 23,
   "id": "7117a935",
   "metadata": {},
   "outputs": [
    {
     "data": {
      "text/plain": [
       "float"
      ]
     },
     "execution_count": 23,
     "metadata": {},
     "output_type": "execute_result"
    }
   ],
   "source": [
    "y=10.0\n",
    "type(y)"
   ]
  },
  {
   "cell_type": "markdown",
   "id": "c1ad0f0d",
   "metadata": {},
   "source": [
    "# int and float"
   ]
  },
  {
   "cell_type": "code",
   "execution_count": 24,
   "id": "b870848b",
   "metadata": {},
   "outputs": [
    {
     "data": {
      "text/plain": [
       "10"
      ]
     },
     "execution_count": 24,
     "metadata": {},
     "output_type": "execute_result"
    }
   ],
   "source": [
    "x=10\n",
    "x=float(x)\n",
    "x=int(x)\n",
    "x"
   ]
  },
  {
   "cell_type": "code",
   "execution_count": 25,
   "id": "2b66eac9",
   "metadata": {},
   "outputs": [
    {
     "data": {
      "text/plain": [
       "15.0"
      ]
     },
     "execution_count": 25,
     "metadata": {},
     "output_type": "execute_result"
    }
   ],
   "source": [
    "x=15.8\n",
    "x=int(x)\n",
    "x=float(x)\n",
    "x"
   ]
  },
  {
   "cell_type": "markdown",
   "id": "3d89b8d7",
   "metadata": {},
   "source": [
    "# string"
   ]
  },
  {
   "cell_type": "code",
   "execution_count": 26,
   "id": "d0b42139",
   "metadata": {},
   "outputs": [],
   "source": [
    "a=\"python\"\n",
    "b='python'\n",
    "c='\"python\"'"
   ]
  },
  {
   "cell_type": "code",
   "execution_count": 27,
   "id": "9acf5dc7",
   "metadata": {},
   "outputs": [
    {
     "data": {
      "text/plain": [
       "True"
      ]
     },
     "execution_count": 27,
     "metadata": {},
     "output_type": "execute_result"
    }
   ],
   "source": [
    "a==b"
   ]
  },
  {
   "cell_type": "code",
   "execution_count": 28,
   "id": "e947f8b2",
   "metadata": {},
   "outputs": [
    {
     "data": {
      "text/plain": [
       "str"
      ]
     },
     "execution_count": 28,
     "metadata": {},
     "output_type": "execute_result"
    }
   ],
   "source": [
    "type(a)"
   ]
  },
  {
   "cell_type": "code",
   "execution_count": 29,
   "id": "8e189c80",
   "metadata": {},
   "outputs": [
    {
     "data": {
      "text/plain": [
       "'pythonpython'"
      ]
     },
     "execution_count": 29,
     "metadata": {},
     "output_type": "execute_result"
    }
   ],
   "source": [
    "a+b"
   ]
  },
  {
   "cell_type": "code",
   "execution_count": 30,
   "id": "953e84bd",
   "metadata": {},
   "outputs": [
    {
     "ename": "TypeError",
     "evalue": "unsupported operand type(s) for -: 'str' and 'str'",
     "output_type": "error",
     "traceback": [
      "\u001b[1;31m---------------------------------------------------------------------------\u001b[0m",
      "\u001b[1;31mTypeError\u001b[0m                                 Traceback (most recent call last)",
      "\u001b[1;32m~\\AppData\\Local\\Temp/ipykernel_5056/3931802818.py\u001b[0m in \u001b[0;36m<module>\u001b[1;34m\u001b[0m\n\u001b[1;32m----> 1\u001b[1;33m \u001b[0ma\u001b[0m\u001b[1;33m-\u001b[0m\u001b[0mb\u001b[0m\u001b[1;33m\u001b[0m\u001b[1;33m\u001b[0m\u001b[0m\n\u001b[0m",
      "\u001b[1;31mTypeError\u001b[0m: unsupported operand type(s) for -: 'str' and 'str'"
     ]
    }
   ],
   "source": [
    "a-b"
   ]
  },
  {
   "cell_type": "code",
   "execution_count": 31,
   "id": "2b0514df",
   "metadata": {},
   "outputs": [
    {
     "data": {
      "text/plain": [
       "'pythonpython'"
      ]
     },
     "execution_count": 31,
     "metadata": {},
     "output_type": "execute_result"
    }
   ],
   "source": [
    "a*2"
   ]
  },
  {
   "cell_type": "code",
   "execution_count": 32,
   "id": "c0e099d3",
   "metadata": {},
   "outputs": [
    {
     "data": {
      "text/plain": [
       "'PYTHON'"
      ]
     },
     "execution_count": 32,
     "metadata": {},
     "output_type": "execute_result"
    }
   ],
   "source": [
    "a.upper()"
   ]
  },
  {
   "cell_type": "code",
   "execution_count": 33,
   "id": "97f273b2",
   "metadata": {},
   "outputs": [
    {
     "data": {
      "text/plain": [
       "'python'"
      ]
     },
     "execution_count": 33,
     "metadata": {},
     "output_type": "execute_result"
    }
   ],
   "source": [
    "a.lower()"
   ]
  },
  {
   "cell_type": "code",
   "execution_count": 34,
   "id": "fb614d19",
   "metadata": {},
   "outputs": [
    {
     "data": {
      "text/plain": [
       "'Python'"
      ]
     },
     "execution_count": 34,
     "metadata": {},
     "output_type": "execute_result"
    }
   ],
   "source": [
    "a.capitalize()"
   ]
  },
  {
   "cell_type": "code",
   "execution_count": 35,
   "id": "8d978553",
   "metadata": {},
   "outputs": [
    {
     "data": {
      "text/plain": [
       "'h'"
      ]
     },
     "execution_count": 35,
     "metadata": {},
     "output_type": "execute_result"
    }
   ],
   "source": [
    "a[3]"
   ]
  },
  {
   "cell_type": "code",
   "execution_count": 36,
   "id": "0a6d5a21",
   "metadata": {},
   "outputs": [
    {
     "data": {
      "text/plain": [
       "3"
      ]
     },
     "execution_count": 36,
     "metadata": {},
     "output_type": "execute_result"
    }
   ],
   "source": [
    "a.find(\"h\")"
   ]
  },
  {
   "cell_type": "code",
   "execution_count": 37,
   "id": "06c1f47f",
   "metadata": {},
   "outputs": [
    {
     "data": {
      "text/plain": [
       "1"
      ]
     },
     "execution_count": 37,
     "metadata": {},
     "output_type": "execute_result"
    }
   ],
   "source": [
    "a.count('h')"
   ]
  },
  {
   "cell_type": "code",
   "execution_count": 38,
   "id": "94dd3920",
   "metadata": {},
   "outputs": [
    {
     "ename": "ValueError",
     "evalue": "substring not found",
     "output_type": "error",
     "traceback": [
      "\u001b[1;31m---------------------------------------------------------------------------\u001b[0m",
      "\u001b[1;31mValueError\u001b[0m                                Traceback (most recent call last)",
      "\u001b[1;32m~\\AppData\\Local\\Temp/ipykernel_5056/3281664942.py\u001b[0m in \u001b[0;36m<module>\u001b[1;34m\u001b[0m\n\u001b[1;32m----> 1\u001b[1;33m \u001b[0ma\u001b[0m\u001b[1;33m.\u001b[0m\u001b[0mindex\u001b[0m\u001b[1;33m(\u001b[0m\u001b[1;34m'z'\u001b[0m\u001b[1;33m)\u001b[0m\u001b[1;33m\u001b[0m\u001b[1;33m\u001b[0m\u001b[0m\n\u001b[0m",
      "\u001b[1;31mValueError\u001b[0m: substring not found"
     ]
    }
   ],
   "source": [
    "a.index('z')"
   ]
  },
  {
   "cell_type": "code",
   "execution_count": 39,
   "id": "26b29af6",
   "metadata": {},
   "outputs": [
    {
     "data": {
      "text/plain": [
       "-1"
      ]
     },
     "execution_count": 39,
     "metadata": {},
     "output_type": "execute_result"
    }
   ],
   "source": [
    "a.find('z')"
   ]
  },
  {
   "cell_type": "code",
   "execution_count": 40,
   "id": "1d92ac3c",
   "metadata": {},
   "outputs": [
    {
     "data": {
      "text/plain": [
       "False"
      ]
     },
     "execution_count": 40,
     "metadata": {},
     "output_type": "execute_result"
    }
   ],
   "source": [
    "a.isupper()"
   ]
  },
  {
   "cell_type": "code",
   "execution_count": 41,
   "id": "55750b01",
   "metadata": {},
   "outputs": [
    {
     "data": {
      "text/plain": [
       "True"
      ]
     },
     "execution_count": 41,
     "metadata": {},
     "output_type": "execute_result"
    }
   ],
   "source": [
    "a.islower()"
   ]
  },
  {
   "cell_type": "code",
   "execution_count": 42,
   "id": "217ee714",
   "metadata": {},
   "outputs": [
    {
     "data": {
      "text/plain": [
       "True"
      ]
     },
     "execution_count": 42,
     "metadata": {},
     "output_type": "execute_result"
    }
   ],
   "source": [
    "a.isalpha()"
   ]
  },
  {
   "cell_type": "code",
   "execution_count": 43,
   "id": "211a5e11",
   "metadata": {},
   "outputs": [
    {
     "data": {
      "text/plain": [
       "True"
      ]
     },
     "execution_count": 43,
     "metadata": {},
     "output_type": "execute_result"
    }
   ],
   "source": [
    "a.isalnum()"
   ]
  },
  {
   "cell_type": "code",
   "execution_count": 44,
   "id": "bed2ebcb",
   "metadata": {},
   "outputs": [],
   "source": [
    "a=\"python\""
   ]
  },
  {
   "cell_type": "code",
   "execution_count": 45,
   "id": "f5066a79",
   "metadata": {},
   "outputs": [
    {
     "data": {
      "text/plain": [
       "'yth'"
      ]
     },
     "execution_count": 45,
     "metadata": {},
     "output_type": "execute_result"
    }
   ],
   "source": [
    "#a[start : end : step]\n",
    "\n",
    "a[1:4]"
   ]
  },
  {
   "cell_type": "code",
   "execution_count": 46,
   "id": "6b48568d",
   "metadata": {},
   "outputs": [
    {
     "data": {
      "text/plain": [
       "''"
      ]
     },
     "execution_count": 46,
     "metadata": {},
     "output_type": "execute_result"
    }
   ],
   "source": [
    "a[1:4:-1]"
   ]
  },
  {
   "cell_type": "code",
   "execution_count": 47,
   "id": "113cdfc2",
   "metadata": {},
   "outputs": [
    {
     "data": {
      "text/plain": [
       "'oht'"
      ]
     },
     "execution_count": 47,
     "metadata": {},
     "output_type": "execute_result"
    }
   ],
   "source": [
    "a[4:1:-1]"
   ]
  },
  {
   "cell_type": "code",
   "execution_count": 48,
   "id": "6ccc1922",
   "metadata": {},
   "outputs": [
    {
     "data": {
      "text/plain": [
       "'noht'"
      ]
     },
     "execution_count": 48,
     "metadata": {},
     "output_type": "execute_result"
    }
   ],
   "source": [
    "a[:1:-1]"
   ]
  },
  {
   "cell_type": "code",
   "execution_count": 49,
   "id": "68660bc1",
   "metadata": {},
   "outputs": [
    {
     "data": {
      "text/plain": [
       "'nohtyp'"
      ]
     },
     "execution_count": 49,
     "metadata": {},
     "output_type": "execute_result"
    }
   ],
   "source": [
    "a[::-1] #palindrome "
   ]
  },
  {
   "cell_type": "code",
   "execution_count": 50,
   "id": "8bfbab74",
   "metadata": {},
   "outputs": [
    {
     "data": {
      "text/plain": [
       "True"
      ]
     },
     "execution_count": 50,
     "metadata": {},
     "output_type": "execute_result"
    }
   ],
   "source": [
    "a=\"mom\"\n",
    "\n",
    "a==a[::-1]"
   ]
  },
  {
   "cell_type": "code",
   "execution_count": 51,
   "id": "714160c0",
   "metadata": {},
   "outputs": [
    {
     "data": {
      "text/plain": [
       "False"
      ]
     },
     "execution_count": 51,
     "metadata": {},
     "output_type": "execute_result"
    }
   ],
   "source": [
    "a=\"abcd\"\n",
    "\n",
    "a==a[::-1]"
   ]
  },
  {
   "cell_type": "markdown",
   "id": "8feb5ce1",
   "metadata": {},
   "source": [
    "# heading str and int "
   ]
  },
  {
   "cell_type": "code",
   "execution_count": 52,
   "id": "db1914ad",
   "metadata": {},
   "outputs": [
    {
     "data": {
      "text/plain": [
       "12"
      ]
     },
     "execution_count": 52,
     "metadata": {},
     "output_type": "execute_result"
    }
   ],
   "source": [
    "a=\"12\"\n",
    "int(a)"
   ]
  },
  {
   "cell_type": "code",
   "execution_count": 53,
   "id": "cc18e08a",
   "metadata": {},
   "outputs": [
    {
     "data": {
      "text/plain": [
       "'12'"
      ]
     },
     "execution_count": 53,
     "metadata": {},
     "output_type": "execute_result"
    }
   ],
   "source": [
    "a=12\n",
    "str(a)"
   ]
  },
  {
   "cell_type": "code",
   "execution_count": 54,
   "id": "72850cdf",
   "metadata": {},
   "outputs": [
    {
     "data": {
      "text/plain": [
       "12"
      ]
     },
     "execution_count": 54,
     "metadata": {},
     "output_type": "execute_result"
    }
   ],
   "source": [
    "a=12\n",
    "a=str(a)\n",
    "a=int(a)\n",
    "a"
   ]
  },
  {
   "cell_type": "markdown",
   "id": "5319129c",
   "metadata": {},
   "source": [
    "# list"
   ]
  },
  {
   "cell_type": "code",
   "execution_count": 55,
   "id": "cbc3c537",
   "metadata": {},
   "outputs": [],
   "source": [
    "a= [12,13.8,\"abc\",True,[12,3]]"
   ]
  },
  {
   "cell_type": "code",
   "execution_count": 56,
   "id": "c489bad6",
   "metadata": {},
   "outputs": [
    {
     "data": {
      "text/plain": [
       "5"
      ]
     },
     "execution_count": 56,
     "metadata": {},
     "output_type": "execute_result"
    }
   ],
   "source": [
    "len(a)"
   ]
  },
  {
   "cell_type": "code",
   "execution_count": 57,
   "id": "3a431295",
   "metadata": {},
   "outputs": [],
   "source": [
    "a=[1,6,9]"
   ]
  },
  {
   "cell_type": "code",
   "execution_count": 58,
   "id": "f7a60073",
   "metadata": {},
   "outputs": [
    {
     "data": {
      "text/plain": [
       "[1, 6, 9, 1, 6, 9]"
      ]
     },
     "execution_count": 58,
     "metadata": {},
     "output_type": "execute_result"
    }
   ],
   "source": [
    "a+a #similsr as string"
   ]
  },
  {
   "cell_type": "code",
   "execution_count": 59,
   "id": "014a3118",
   "metadata": {},
   "outputs": [
    {
     "data": {
      "text/plain": [
       "[1, 6, 9, 1, 6, 9]"
      ]
     },
     "execution_count": 59,
     "metadata": {},
     "output_type": "execute_result"
    }
   ],
   "source": [
    "a*2 #similar as string"
   ]
  },
  {
   "cell_type": "code",
   "execution_count": 60,
   "id": "8fcc90c8",
   "metadata": {},
   "outputs": [
    {
     "data": {
      "text/plain": [
       "1"
      ]
     },
     "execution_count": 60,
     "metadata": {},
     "output_type": "execute_result"
    }
   ],
   "source": [
    "a.index(6) #similsr as string"
   ]
  },
  {
   "cell_type": "code",
   "execution_count": 61,
   "id": "89933a35",
   "metadata": {},
   "outputs": [
    {
     "data": {
      "text/plain": [
       "1"
      ]
     },
     "execution_count": 61,
     "metadata": {},
     "output_type": "execute_result"
    }
   ],
   "source": [
    "a.count(6) #similsr as string"
   ]
  },
  {
   "cell_type": "code",
   "execution_count": 62,
   "id": "3ff7fd73",
   "metadata": {},
   "outputs": [
    {
     "data": {
      "text/plain": [
       "[1, 6, 9]"
      ]
     },
     "execution_count": 62,
     "metadata": {},
     "output_type": "execute_result"
    }
   ],
   "source": [
    "a"
   ]
  },
  {
   "cell_type": "code",
   "execution_count": 63,
   "id": "6eef2585",
   "metadata": {},
   "outputs": [
    {
     "data": {
      "text/plain": [
       "9"
      ]
     },
     "execution_count": 63,
     "metadata": {},
     "output_type": "execute_result"
    }
   ],
   "source": [
    "a[2]"
   ]
  },
  {
   "cell_type": "code",
   "execution_count": 64,
   "id": "f1e7b94b",
   "metadata": {},
   "outputs": [],
   "source": [
    "a[2]=10"
   ]
  },
  {
   "cell_type": "code",
   "execution_count": 65,
   "id": "648b21fd",
   "metadata": {},
   "outputs": [
    {
     "data": {
      "text/plain": [
       "[1, 6, 10]"
      ]
     },
     "execution_count": 65,
     "metadata": {},
     "output_type": "execute_result"
    }
   ],
   "source": [
    "a"
   ]
  },
  {
   "cell_type": "code",
   "execution_count": 66,
   "id": "79ede3a3",
   "metadata": {},
   "outputs": [
    {
     "data": {
      "text/plain": [
       "[1, 6, 10, 2]"
      ]
     },
     "execution_count": 66,
     "metadata": {},
     "output_type": "execute_result"
    }
   ],
   "source": [
    "a.append(2)   #add the element at last\n",
    "a"
   ]
  },
  {
   "cell_type": "code",
   "execution_count": 67,
   "id": "6a18be91",
   "metadata": {},
   "outputs": [
    {
     "data": {
      "text/plain": [
       "[1, 12, 6, 10, 2]"
      ]
     },
     "execution_count": 67,
     "metadata": {},
     "output_type": "execute_result"
    }
   ],
   "source": [
    "a.insert(1,12)  # add the element at defined index\n",
    "a"
   ]
  },
  {
   "cell_type": "code",
   "execution_count": 68,
   "id": "e765eaec",
   "metadata": {},
   "outputs": [
    {
     "data": {
      "text/plain": [
       "[1, 12, 6, 10, 2]"
      ]
     },
     "execution_count": 68,
     "metadata": {},
     "output_type": "execute_result"
    }
   ],
   "source": [
    "a"
   ]
  },
  {
   "cell_type": "code",
   "execution_count": 69,
   "id": "6c51ae88",
   "metadata": {},
   "outputs": [],
   "source": [
    "a.remove(12)"
   ]
  },
  {
   "cell_type": "code",
   "execution_count": 70,
   "id": "5ab14df9",
   "metadata": {},
   "outputs": [
    {
     "data": {
      "text/plain": [
       "[1, 6, 10, 2]"
      ]
     },
     "execution_count": 70,
     "metadata": {},
     "output_type": "execute_result"
    }
   ],
   "source": [
    "a"
   ]
  },
  {
   "cell_type": "code",
   "execution_count": 71,
   "id": "f1e73d5b",
   "metadata": {},
   "outputs": [
    {
     "data": {
      "text/plain": [
       "[1, 2, 4, 5]"
      ]
     },
     "execution_count": 71,
     "metadata": {},
     "output_type": "execute_result"
    }
   ],
   "source": [
    "a=[1,2,3,4,5]\n",
    "a.remove(3)\n",
    "a"
   ]
  },
  {
   "cell_type": "code",
   "execution_count": 72,
   "id": "fe9736a7",
   "metadata": {},
   "outputs": [
    {
     "data": {
      "text/plain": [
       "[1, 2, 4, 5]"
      ]
     },
     "execution_count": 72,
     "metadata": {},
     "output_type": "execute_result"
    }
   ],
   "source": [
    "a"
   ]
  },
  {
   "cell_type": "code",
   "execution_count": 73,
   "id": "0f08026b",
   "metadata": {},
   "outputs": [
    {
     "data": {
      "text/plain": [
       "4"
      ]
     },
     "execution_count": 73,
     "metadata": {},
     "output_type": "execute_result"
    }
   ],
   "source": [
    "a.pop(2)"
   ]
  },
  {
   "cell_type": "markdown",
   "id": "c23d8144",
   "metadata": {},
   "source": [
    "# str to list "
   ]
  },
  {
   "cell_type": "code",
   "execution_count": 74,
   "id": "7d780eb4",
   "metadata": {},
   "outputs": [
    {
     "data": {
      "text/plain": [
       "['p', 'y', 't', 'h', 'o', 'n']"
      ]
     },
     "execution_count": 74,
     "metadata": {},
     "output_type": "execute_result"
    }
   ],
   "source": [
    "b=\"python\" #string to list\n",
    "b=list(b)\n",
    "b"
   ]
  },
  {
   "cell_type": "code",
   "execution_count": 75,
   "id": "081a73c5",
   "metadata": {},
   "outputs": [
    {
     "data": {
      "text/plain": [
       "'python'"
      ]
     },
     "execution_count": 75,
     "metadata": {},
     "output_type": "execute_result"
    }
   ],
   "source": [
    "b #list to str\n",
    "\"\".join(b)  #join all elements without space.. if \"*\".join(b) thn o/p is p*y*t*h*o*n"
   ]
  },
  {
   "cell_type": "code",
   "execution_count": 76,
   "id": "1322fb62",
   "metadata": {},
   "outputs": [
    {
     "data": {
      "text/plain": [
       "[12, 13.8, 'abc', True, [12, 3, 5]]"
      ]
     },
     "execution_count": 76,
     "metadata": {},
     "output_type": "execute_result"
    }
   ],
   "source": [
    "a= [12,13.8,\"abc\",True,[12,3]]  #add element in lists list\n",
    "a[4].append(5)\n",
    "a"
   ]
  },
  {
   "cell_type": "markdown",
   "id": "3f90bfcc",
   "metadata": {},
   "source": [
    "# tuple"
   ]
  },
  {
   "cell_type": "code",
   "execution_count": 77,
   "id": "c87bf071",
   "metadata": {},
   "outputs": [],
   "source": [
    "a=(1,1.3,'sri',True,[1,2,3],(4,5,6))"
   ]
  },
  {
   "cell_type": "code",
   "execution_count": 78,
   "id": "18b37eb2",
   "metadata": {},
   "outputs": [],
   "source": [
    "a=(1,2,3)"
   ]
  },
  {
   "cell_type": "code",
   "execution_count": 79,
   "id": "e287f33b",
   "metadata": {},
   "outputs": [
    {
     "data": {
      "text/plain": [
       "(1, 2, 3, 1, 2, 3)"
      ]
     },
     "execution_count": 79,
     "metadata": {},
     "output_type": "execute_result"
    }
   ],
   "source": [
    "a+a"
   ]
  },
  {
   "cell_type": "code",
   "execution_count": 80,
   "id": "c6d98913",
   "metadata": {},
   "outputs": [
    {
     "data": {
      "text/plain": [
       "(1, 2, 3, 1, 2, 3)"
      ]
     },
     "execution_count": 80,
     "metadata": {},
     "output_type": "execute_result"
    }
   ],
   "source": [
    "a*2"
   ]
  },
  {
   "cell_type": "code",
   "execution_count": 81,
   "id": "076dccc0",
   "metadata": {},
   "outputs": [
    {
     "data": {
      "text/plain": [
       "1"
      ]
     },
     "execution_count": 81,
     "metadata": {},
     "output_type": "execute_result"
    }
   ],
   "source": [
    "a.index(2)"
   ]
  },
  {
   "cell_type": "code",
   "execution_count": 82,
   "id": "a216dee3",
   "metadata": {},
   "outputs": [
    {
     "data": {
      "text/plain": [
       "1"
      ]
     },
     "execution_count": 82,
     "metadata": {},
     "output_type": "execute_result"
    }
   ],
   "source": [
    "a.count(2)"
   ]
  },
  {
   "cell_type": "code",
   "execution_count": 83,
   "id": "197e9157",
   "metadata": {},
   "outputs": [],
   "source": [
    "a=[1,2,3]\n",
    "b=(1,2,3)"
   ]
  },
  {
   "cell_type": "code",
   "execution_count": 84,
   "id": "b4d86d86",
   "metadata": {},
   "outputs": [
    {
     "data": {
      "text/plain": [
       "104"
      ]
     },
     "execution_count": 84,
     "metadata": {},
     "output_type": "execute_result"
    }
   ],
   "source": [
    "a.__sizeof__()"
   ]
  },
  {
   "cell_type": "code",
   "execution_count": 85,
   "id": "6765a145",
   "metadata": {},
   "outputs": [
    {
     "data": {
      "text/plain": [
       "48"
      ]
     },
     "execution_count": 85,
     "metadata": {},
     "output_type": "execute_result"
    }
   ],
   "source": [
    "b.__sizeof__()"
   ]
  },
  {
   "cell_type": "code",
   "execution_count": 86,
   "id": "8c06fce7",
   "metadata": {},
   "outputs": [
    {
     "data": {
      "text/plain": [
       "[1, 2, 3, 7]"
      ]
     },
     "execution_count": 86,
     "metadata": {},
     "output_type": "execute_result"
    }
   ],
   "source": [
    "a=(1,2,3)\n",
    "a=list(a)\n",
    "a.append(7)\n",
    "a"
   ]
  },
  {
   "cell_type": "code",
   "execution_count": 87,
   "id": "81ce1142",
   "metadata": {},
   "outputs": [
    {
     "data": {
      "text/plain": [
       "(1, 2, 3, 7)"
      ]
     },
     "execution_count": 87,
     "metadata": {},
     "output_type": "execute_result"
    }
   ],
   "source": [
    "a=tuple(a)\n",
    "a"
   ]
  },
  {
   "cell_type": "code",
   "execution_count": 88,
   "id": "c9daac03",
   "metadata": {},
   "outputs": [
    {
     "data": {
      "text/plain": [
       "(1, 2, 3, [1, 2, 3, 4])"
      ]
     },
     "execution_count": 88,
     "metadata": {},
     "output_type": "execute_result"
    }
   ],
   "source": [
    "a=(1,2,3,[1,2,3])     #only example where a tuple can be changed \n",
    "a[3].append(4)\n",
    "a"
   ]
  },
  {
   "cell_type": "markdown",
   "id": "3cbe2016",
   "metadata": {},
   "source": [
    "# set"
   ]
  },
  {
   "cell_type": "code",
   "execution_count": 89,
   "id": "bc36ffa8",
   "metadata": {},
   "outputs": [
    {
     "data": {
      "text/plain": [
       "{0, 1, 2, 3, 4}"
      ]
     },
     "execution_count": 89,
     "metadata": {},
     "output_type": "execute_result"
    }
   ],
   "source": [
    "a={0,1,2,3,4,1}\n",
    "a"
   ]
  },
  {
   "cell_type": "code",
   "execution_count": 90,
   "id": "37dd141b",
   "metadata": {},
   "outputs": [
    {
     "data": {
      "text/plain": [
       "{0, 6, 7, 8, 9}"
      ]
     },
     "execution_count": 90,
     "metadata": {},
     "output_type": "execute_result"
    }
   ],
   "source": [
    "b={0,6,7,8,9,6}\n",
    "b"
   ]
  },
  {
   "cell_type": "code",
   "execution_count": 91,
   "id": "16fb2ada",
   "metadata": {},
   "outputs": [
    {
     "data": {
      "text/plain": [
       "{0, 1, 2, 3, 4, 6, 7, 8, 9}"
      ]
     },
     "execution_count": 91,
     "metadata": {},
     "output_type": "execute_result"
    }
   ],
   "source": [
    "a|b  #union"
   ]
  },
  {
   "cell_type": "code",
   "execution_count": 92,
   "id": "4dc370f4",
   "metadata": {},
   "outputs": [
    {
     "data": {
      "text/plain": [
       "{0}"
      ]
     },
     "execution_count": 92,
     "metadata": {},
     "output_type": "execute_result"
    }
   ],
   "source": [
    "a.intersection(b)"
   ]
  },
  {
   "cell_type": "code",
   "execution_count": 93,
   "id": "1ce6ab51",
   "metadata": {},
   "outputs": [
    {
     "data": {
      "text/plain": [
       "{0, 1, 2, 3, 4, 6, 7, 8, 9}"
      ]
     },
     "execution_count": 93,
     "metadata": {},
     "output_type": "execute_result"
    }
   ],
   "source": [
    "a.union(b)"
   ]
  },
  {
   "cell_type": "code",
   "execution_count": 94,
   "id": "0b64af4a",
   "metadata": {},
   "outputs": [
    {
     "data": {
      "text/plain": [
       "{0}"
      ]
     },
     "execution_count": 94,
     "metadata": {},
     "output_type": "execute_result"
    }
   ],
   "source": [
    "a&b"
   ]
  },
  {
   "cell_type": "code",
   "execution_count": 95,
   "id": "33b8f956",
   "metadata": {},
   "outputs": [
    {
     "data": {
      "text/plain": [
       "{1, 2, 3, 4}"
      ]
     },
     "execution_count": 95,
     "metadata": {},
     "output_type": "execute_result"
    }
   ],
   "source": [
    "a-b"
   ]
  },
  {
   "cell_type": "code",
   "execution_count": 96,
   "id": "2fcc9958",
   "metadata": {},
   "outputs": [
    {
     "data": {
      "text/plain": [
       "{6, 7, 8, 9}"
      ]
     },
     "execution_count": 96,
     "metadata": {},
     "output_type": "execute_result"
    }
   ],
   "source": [
    "b-a"
   ]
  },
  {
   "cell_type": "markdown",
   "id": "b825a956",
   "metadata": {},
   "source": [
    "# dict"
   ]
  },
  {
   "cell_type": "code",
   "execution_count": 97,
   "id": "0eb0534e",
   "metadata": {},
   "outputs": [],
   "source": [
    "marks={\n",
    "    \"a\":10,\n",
    "    \"b\":20,\n",
    "    \"c\":30\n",
    "}"
   ]
  },
  {
   "cell_type": "code",
   "execution_count": 98,
   "id": "f8c7e0f2",
   "metadata": {},
   "outputs": [],
   "source": [
    "marks2020={\n",
    "    \"a\":10,\n",
    "    \"d\":20,\n",
    "    \"e\":30\n",
    "}"
   ]
  },
  {
   "cell_type": "code",
   "execution_count": 99,
   "id": "303de9fb",
   "metadata": {},
   "outputs": [
    {
     "data": {
      "text/plain": [
       "10"
      ]
     },
     "execution_count": 99,
     "metadata": {},
     "output_type": "execute_result"
    }
   ],
   "source": [
    "marks[\"a\"]"
   ]
  },
  {
   "cell_type": "code",
   "execution_count": 100,
   "id": "ffbc75db",
   "metadata": {},
   "outputs": [
    {
     "data": {
      "text/plain": [
       "20"
      ]
     },
     "execution_count": 100,
     "metadata": {},
     "output_type": "execute_result"
    }
   ],
   "source": [
    "marks[\"b\"]"
   ]
  },
  {
   "cell_type": "code",
   "execution_count": 101,
   "id": "3dfa4ddc",
   "metadata": {},
   "outputs": [
    {
     "data": {
      "text/plain": [
       "dict_keys(['a', 'b', 'c'])"
      ]
     },
     "execution_count": 101,
     "metadata": {},
     "output_type": "execute_result"
    }
   ],
   "source": [
    "marks.keys()"
   ]
  },
  {
   "cell_type": "code",
   "execution_count": 102,
   "id": "34c9d226",
   "metadata": {},
   "outputs": [
    {
     "data": {
      "text/plain": [
       "dict_values([10, 20, 30])"
      ]
     },
     "execution_count": 102,
     "metadata": {},
     "output_type": "execute_result"
    }
   ],
   "source": [
    "marks.values()"
   ]
  },
  {
   "cell_type": "code",
   "execution_count": 103,
   "id": "b26a728e",
   "metadata": {},
   "outputs": [
    {
     "data": {
      "text/plain": [
       "{'a': 10, 'b': 20, 'c': 30, 'd': 20, 'e': 30}"
      ]
     },
     "execution_count": 103,
     "metadata": {},
     "output_type": "execute_result"
    }
   ],
   "source": [
    "marks.update(marks2020)\n",
    "marks"
   ]
  },
  {
   "cell_type": "markdown",
   "id": "2fbff95c",
   "metadata": {},
   "source": [
    "# loops"
   ]
  },
  {
   "cell_type": "code",
   "execution_count": 104,
   "id": "faffaca2",
   "metadata": {},
   "outputs": [
    {
     "data": {
      "text/plain": [
       "[11, 21, 31, 41]"
      ]
     },
     "execution_count": 104,
     "metadata": {},
     "output_type": "execute_result"
    }
   ],
   "source": [
    "l=[10,20,30,40]    #its not sclable and time consuming so use loops\n",
    "l[0]=l[0]+1\n",
    "l[1]=l[1]+1\n",
    "l[2]=l[2]+1\n",
    "l[3]=l[3]+1\n",
    "l"
   ]
  },
  {
   "cell_type": "code",
   "execution_count": 105,
   "id": "8a8fbdac",
   "metadata": {},
   "outputs": [],
   "source": [
    "l=[10,20,30,40]\n",
    "l2=[]\n",
    "\n",
    "for i in l:\n",
    "    l2.append(i+1)"
   ]
  },
  {
   "cell_type": "code",
   "execution_count": 106,
   "id": "eb83b11c",
   "metadata": {},
   "outputs": [
    {
     "data": {
      "text/plain": [
       "[11, 21, 31, 41]"
      ]
     },
     "execution_count": 106,
     "metadata": {},
     "output_type": "execute_result"
    }
   ],
   "source": [
    "l2"
   ]
  },
  {
   "cell_type": "code",
   "execution_count": 107,
   "id": "204c5568",
   "metadata": {},
   "outputs": [],
   "source": [
    "l=[10,20,30,40]\n",
    "l2=[]\n",
    "\n",
    "for i in l:\n",
    "    l2.append(i**2)"
   ]
  },
  {
   "cell_type": "code",
   "execution_count": 108,
   "id": "a8feeed6",
   "metadata": {},
   "outputs": [
    {
     "data": {
      "text/plain": [
       "[100, 400, 900, 1600]"
      ]
     },
     "execution_count": 108,
     "metadata": {},
     "output_type": "execute_result"
    }
   ],
   "source": [
    "l2"
   ]
  },
  {
   "cell_type": "code",
   "execution_count": 109,
   "id": "4f9d5e5c",
   "metadata": {},
   "outputs": [
    {
     "name": "stdout",
     "output_type": "stream",
     "text": [
      "10\n",
      "20\n",
      "30\n",
      "40\n"
     ]
    }
   ],
   "source": [
    "l=[10,20,30,40]     # through index\n",
    "\n",
    "for i in range(0,len(l)):\n",
    "    print(l[i])"
   ]
  },
  {
   "cell_type": "code",
   "execution_count": 110,
   "id": "7fbfb765",
   "metadata": {},
   "outputs": [
    {
     "name": "stdout",
     "output_type": "stream",
     "text": [
      "40\n",
      "30\n",
      "20\n",
      "10\n"
     ]
    }
   ],
   "source": [
    "l=[10,20,30,40]     # reverse\n",
    "\n",
    "for i in l[::-1]:\n",
    "    print(i)"
   ]
  },
  {
   "cell_type": "markdown",
   "id": "1fae4ee7",
   "metadata": {},
   "source": [
    "# if else"
   ]
  },
  {
   "cell_type": "code",
   "execution_count": 111,
   "id": "3257fd41",
   "metadata": {},
   "outputs": [
    {
     "name": "stdout",
     "output_type": "stream",
     "text": [
      "x is 21\n"
     ]
    }
   ],
   "source": [
    "x=21\n",
    "\n",
    "if x==21:\n",
    "    print('x is 21')\n",
    "\n",
    "elif x==10:\n",
    "    print('x is 10')\n",
    "    \n",
    "else:\n",
    "    print('flase')"
   ]
  },
  {
   "cell_type": "code",
   "execution_count": 112,
   "id": "30382c52",
   "metadata": {},
   "outputs": [],
   "source": [
    "l=[10,10.1,20,20.2,30,30.3,40,40.4]"
   ]
  },
  {
   "cell_type": "code",
   "execution_count": 113,
   "id": "7b911556",
   "metadata": {},
   "outputs": [
    {
     "data": {
      "text/plain": [
       "True"
      ]
     },
     "execution_count": 113,
     "metadata": {},
     "output_type": "execute_result"
    }
   ],
   "source": [
    "10==int(10)"
   ]
  },
  {
   "cell_type": "code",
   "execution_count": 114,
   "id": "75831b4a",
   "metadata": {},
   "outputs": [
    {
     "data": {
      "text/plain": [
       "False"
      ]
     },
     "execution_count": 114,
     "metadata": {},
     "output_type": "execute_result"
    }
   ],
   "source": [
    "10.1==int(10.1)"
   ]
  },
  {
   "cell_type": "code",
   "execution_count": 115,
   "id": "a58efaaa",
   "metadata": {},
   "outputs": [],
   "source": [
    "l=[10,10.1,20,20.2,30,30.3,40,40.4]  \n",
    "\n",
    "l1=[]\n",
    "l2=[]"
   ]
  },
  {
   "cell_type": "code",
   "execution_count": 116,
   "id": "acadaab2",
   "metadata": {},
   "outputs": [],
   "source": [
    "for i in l:       #seperate int and float from list\n",
    "    \n",
    "    if i==int(i):\n",
    "        l1.append(i)\n",
    "        \n",
    "    else:\n",
    "       l2.append(i)"
   ]
  },
  {
   "cell_type": "code",
   "execution_count": 117,
   "id": "4e1b343d",
   "metadata": {},
   "outputs": [
    {
     "data": {
      "text/plain": [
       "[10, 20, 30, 40]"
      ]
     },
     "execution_count": 117,
     "metadata": {},
     "output_type": "execute_result"
    }
   ],
   "source": [
    "l1"
   ]
  },
  {
   "cell_type": "code",
   "execution_count": 118,
   "id": "e32a03f9",
   "metadata": {},
   "outputs": [
    {
     "name": "stdout",
     "output_type": "stream",
     "text": [
      "l1= [10, 20, 30, 40]\n"
     ]
    }
   ],
   "source": [
    "print('l1=',l1)     # to print"
   ]
  },
  {
   "cell_type": "code",
   "execution_count": 119,
   "id": "fa6b84fa",
   "metadata": {},
   "outputs": [
    {
     "data": {
      "text/plain": [
       "[10.1, 20.2, 30.3, 40.4]"
      ]
     },
     "execution_count": 119,
     "metadata": {},
     "output_type": "execute_result"
    }
   ],
   "source": [
    "l2"
   ]
  },
  {
   "cell_type": "code",
   "execution_count": 120,
   "id": "dcb9a0c0",
   "metadata": {},
   "outputs": [],
   "source": [
    "l=[10,10.1,20,20.2,30,30.3,40,40.4,3,5]  \n",
    "\n",
    "l1=[]\n",
    "l2=[]\n",
    "l3=[]"
   ]
  },
  {
   "cell_type": "code",
   "execution_count": 121,
   "id": "54a7d06a",
   "metadata": {},
   "outputs": [],
   "source": [
    "for i in l:\n",
    "    \n",
    "    if i%2==0:\n",
    "     l1.append(i)\n",
    "    elif i%2==1:\n",
    "     l2.append(i)\n",
    "    else:\n",
    "     l3.append(i)"
   ]
  },
  {
   "cell_type": "code",
   "execution_count": 122,
   "id": "3a4f2a47",
   "metadata": {},
   "outputs": [
    {
     "data": {
      "text/plain": [
       "[10, 20, 30, 40]"
      ]
     },
     "execution_count": 122,
     "metadata": {},
     "output_type": "execute_result"
    }
   ],
   "source": [
    "l1"
   ]
  },
  {
   "cell_type": "code",
   "execution_count": 123,
   "id": "0cf11ac5",
   "metadata": {},
   "outputs": [
    {
     "data": {
      "text/plain": [
       "[3, 5]"
      ]
     },
     "execution_count": 123,
     "metadata": {},
     "output_type": "execute_result"
    }
   ],
   "source": [
    "l2"
   ]
  },
  {
   "cell_type": "code",
   "execution_count": 124,
   "id": "6978fd4b",
   "metadata": {},
   "outputs": [
    {
     "data": {
      "text/plain": [
       "[10.1, 20.2, 30.3, 40.4]"
      ]
     },
     "execution_count": 124,
     "metadata": {},
     "output_type": "execute_result"
    }
   ],
   "source": [
    "l3"
   ]
  },
  {
   "cell_type": "markdown",
   "id": "84f46afd",
   "metadata": {},
   "source": [
    "# Exercise "
   ]
  },
  {
   "cell_type": "code",
   "execution_count": 125,
   "id": "7f63fdc9",
   "metadata": {},
   "outputs": [],
   "source": [
    "# if set is mutable?\n",
    "# given a number need to find all the possible factor\n",
    "\n",
    "#case1\n",
    "\n",
    "a=[1,2,3]\n",
    "a.append([1,2,3])\n",
    "\n",
    "#case2\n",
    "\n",
    "a=[1,2,3]\n",
    "a.append(a)"
   ]
  },
  {
   "cell_type": "code",
   "execution_count": 126,
   "id": "d4c38961",
   "metadata": {},
   "outputs": [],
   "source": [
    "#05/07/22"
   ]
  },
  {
   "cell_type": "code",
   "execution_count": 127,
   "id": "0f72dea3",
   "metadata": {},
   "outputs": [],
   "source": [
    "number =24   #possible factor   \n",
    "l=[]\n",
    "\n",
    "for i in range(1,number+1):\n",
    "    \n",
    "    if number %i==0:\n",
    "        l.append(i)"
   ]
  },
  {
   "cell_type": "code",
   "execution_count": 128,
   "id": "29dc3e8a",
   "metadata": {},
   "outputs": [
    {
     "data": {
      "text/plain": [
       "[1, 2, 3, 4, 6, 8, 12, 24]"
      ]
     },
     "execution_count": 128,
     "metadata": {},
     "output_type": "execute_result"
    }
   ],
   "source": [
    "l"
   ]
  },
  {
   "cell_type": "code",
   "execution_count": 129,
   "id": "1b8d3fd9",
   "metadata": {},
   "outputs": [],
   "source": [
    "number =24   #possible factor and even factor\n",
    "l=[]\n",
    "\n",
    "for i in range(1,number+1):\n",
    "    \n",
    "    if number %i==0 and i%2==1:\n",
    "        l.append(i)"
   ]
  },
  {
   "cell_type": "code",
   "execution_count": 130,
   "id": "3ebd8003",
   "metadata": {},
   "outputs": [
    {
     "data": {
      "text/plain": [
       "[1, 3]"
      ]
     },
     "execution_count": 130,
     "metadata": {},
     "output_type": "execute_result"
    }
   ],
   "source": [
    "l"
   ]
  },
  {
   "cell_type": "code",
   "execution_count": 131,
   "id": "2a3f8f47",
   "metadata": {},
   "outputs": [
    {
     "data": {
      "text/plain": [
       "[1, 2, 3, 4, 5, 6, 7, 8, 9]"
      ]
     },
     "execution_count": 131,
     "metadata": {},
     "output_type": "execute_result"
    }
   ],
   "source": [
    "list(range(1,10))"
   ]
  },
  {
   "cell_type": "markdown",
   "id": "bff1ec3d",
   "metadata": {},
   "source": [
    "# functions"
   ]
  },
  {
   "cell_type": "code",
   "execution_count": 132,
   "id": "4230ea67",
   "metadata": {},
   "outputs": [],
   "source": [
    "def fun(x):   #even,odd,fraction using function\n",
    "    \n",
    "    if x%2==0:\n",
    "        print('even')\n",
    "    elif x%2==1:\n",
    "        print('odd')\n",
    "    else:\n",
    "        print('fraction')"
   ]
  },
  {
   "cell_type": "code",
   "execution_count": 133,
   "id": "bf5c888f",
   "metadata": {},
   "outputs": [
    {
     "name": "stdout",
     "output_type": "stream",
     "text": [
      "even\n"
     ]
    }
   ],
   "source": [
    "fun(2)"
   ]
  },
  {
   "cell_type": "code",
   "execution_count": 134,
   "id": "7ecd3b8c",
   "metadata": {},
   "outputs": [
    {
     "name": "stdout",
     "output_type": "stream",
     "text": [
      "odd\n"
     ]
    }
   ],
   "source": [
    "fun(3)"
   ]
  },
  {
   "cell_type": "code",
   "execution_count": 135,
   "id": "27c38b58",
   "metadata": {},
   "outputs": [
    {
     "name": "stdout",
     "output_type": "stream",
     "text": [
      "fraction\n"
     ]
    }
   ],
   "source": [
    "fun(2.3)"
   ]
  },
  {
   "cell_type": "code",
   "execution_count": 136,
   "id": "962dc72a",
   "metadata": {},
   "outputs": [],
   "source": [
    "def fun (x):  #possible factors usinf function\n",
    "\n",
    "    l =[]\n",
    "    for i in range(1,x+1):\n",
    "    \n",
    "        if x%i==0:\n",
    "            l.append(i)\n",
    "        \n",
    "        print(l)\n",
    "    "
   ]
  },
  {
   "cell_type": "markdown",
   "id": "0d2c77cf",
   "metadata": {},
   "source": [
    "# print vs return"
   ]
  },
  {
   "cell_type": "code",
   "execution_count": 137,
   "id": "792f6494",
   "metadata": {},
   "outputs": [],
   "source": [
    "def fun1(x):\n",
    "    return x**2"
   ]
  },
  {
   "cell_type": "code",
   "execution_count": 138,
   "id": "c752e731",
   "metadata": {},
   "outputs": [],
   "source": [
    "def fun2(x):\n",
    "    print(x**2)"
   ]
  },
  {
   "cell_type": "code",
   "execution_count": 139,
   "id": "74747717",
   "metadata": {},
   "outputs": [
    {
     "data": {
      "text/plain": [
       "16"
      ]
     },
     "execution_count": 139,
     "metadata": {},
     "output_type": "execute_result"
    }
   ],
   "source": [
    "a=fun1(4)\n",
    "a"
   ]
  },
  {
   "cell_type": "code",
   "execution_count": 140,
   "id": "c702cc6f",
   "metadata": {},
   "outputs": [
    {
     "name": "stdout",
     "output_type": "stream",
     "text": [
      "16\n"
     ]
    }
   ],
   "source": [
    "b=fun2(4)\n",
    "b"
   ]
  },
  {
   "cell_type": "code",
   "execution_count": 141,
   "id": "0c93abf1",
   "metadata": {},
   "outputs": [
    {
     "name": "stdout",
     "output_type": "stream",
     "text": [
      "16\n"
     ]
    }
   ],
   "source": [
    "print(a)"
   ]
  },
  {
   "cell_type": "code",
   "execution_count": 142,
   "id": "ba0b20b9",
   "metadata": {},
   "outputs": [
    {
     "name": "stdout",
     "output_type": "stream",
     "text": [
      "None\n"
     ]
    }
   ],
   "source": [
    "print(b)"
   ]
  },
  {
   "cell_type": "code",
   "execution_count": 143,
   "id": "1acce8e7",
   "metadata": {},
   "outputs": [],
   "source": [
    "def prime (x):   #prime number \n",
    "    \n",
    "    l=[]\n",
    "    for i in range(1,x+1):\n",
    "        if x%i==0:\n",
    "            l.append(i)\n",
    "    if len(l)==2:\n",
    "        print('prime')\n",
    "    else:\n",
    "        print(\"not a prime\")"
   ]
  },
  {
   "cell_type": "code",
   "execution_count": 144,
   "id": "dad4dc68",
   "metadata": {},
   "outputs": [
    {
     "name": "stdout",
     "output_type": "stream",
     "text": [
      "prime\n"
     ]
    }
   ],
   "source": [
    "prime(3)"
   ]
  },
  {
   "cell_type": "code",
   "execution_count": 145,
   "id": "6d4c6d91",
   "metadata": {},
   "outputs": [],
   "source": [
    "def prime (x):   #prime number optimized \n",
    "    \n",
    "    if x<=1:\n",
    "        return \"not a prime\"\n",
    "    \n",
    "    for i in range(2,x):\n",
    "        if x%i==0:\n",
    "            return \"not a prime\"\n",
    "        \n",
    "        return \"prime\""
   ]
  },
  {
   "cell_type": "code",
   "execution_count": 146,
   "id": "a1bbed01",
   "metadata": {},
   "outputs": [
    {
     "data": {
      "text/plain": [
       "'prime'"
      ]
     },
     "execution_count": 146,
     "metadata": {},
     "output_type": "execute_result"
    }
   ],
   "source": [
    "prime(23)"
   ]
  },
  {
   "cell_type": "code",
   "execution_count": 147,
   "id": "4179edcf",
   "metadata": {},
   "outputs": [
    {
     "data": {
      "text/plain": [
       "'not a prime'"
      ]
     },
     "execution_count": 147,
     "metadata": {},
     "output_type": "execute_result"
    }
   ],
   "source": [
    "prime(1)"
   ]
  },
  {
   "cell_type": "markdown",
   "id": "779ad736",
   "metadata": {},
   "source": [
    "# map and filter object"
   ]
  },
  {
   "cell_type": "code",
   "execution_count": 148,
   "id": "5a4bb48c",
   "metadata": {},
   "outputs": [],
   "source": [
    "def fun(x):       #map\n",
    "    \n",
    "    return x**2"
   ]
  },
  {
   "cell_type": "code",
   "execution_count": 149,
   "id": "ddd0e998",
   "metadata": {},
   "outputs": [],
   "source": [
    "l=[1,3,5,9,10,12,34,43]"
   ]
  },
  {
   "cell_type": "code",
   "execution_count": 150,
   "id": "f33af287",
   "metadata": {},
   "outputs": [],
   "source": [
    "output=map(fun,l)"
   ]
  },
  {
   "cell_type": "code",
   "execution_count": 151,
   "id": "42384aa9",
   "metadata": {},
   "outputs": [
    {
     "data": {
      "text/plain": [
       "[1, 9, 25, 81, 100, 144, 1156, 1849]"
      ]
     },
     "execution_count": 151,
     "metadata": {},
     "output_type": "execute_result"
    }
   ],
   "source": [
    "list(output)"
   ]
  },
  {
   "cell_type": "code",
   "execution_count": 152,
   "id": "bed1d546",
   "metadata": {},
   "outputs": [],
   "source": [
    " output=map(prime,l)"
   ]
  },
  {
   "cell_type": "code",
   "execution_count": 153,
   "id": "0b993502",
   "metadata": {},
   "outputs": [
    {
     "data": {
      "text/plain": [
       "['not a prime',\n",
       " 'prime',\n",
       " 'prime',\n",
       " 'prime',\n",
       " 'not a prime',\n",
       " 'not a prime',\n",
       " 'not a prime',\n",
       " 'prime']"
      ]
     },
     "execution_count": 153,
     "metadata": {},
     "output_type": "execute_result"
    }
   ],
   "source": [
    "list(output)"
   ]
  },
  {
   "cell_type": "code",
   "execution_count": 154,
   "id": "5e78e1e4",
   "metadata": {},
   "outputs": [],
   "source": [
    "def even_odd(x):   #filter\n",
    "    return x%2==1"
   ]
  },
  {
   "cell_type": "code",
   "execution_count": 155,
   "id": "c1078f7a",
   "metadata": {},
   "outputs": [
    {
     "data": {
      "text/plain": [
       "[1, 3, 5, 9, 10, 12, 34, 43]"
      ]
     },
     "execution_count": 155,
     "metadata": {},
     "output_type": "execute_result"
    }
   ],
   "source": [
    "l"
   ]
  },
  {
   "cell_type": "code",
   "execution_count": 156,
   "id": "ab4127ab",
   "metadata": {},
   "outputs": [],
   "source": [
    "output=filter(even_odd,l)"
   ]
  },
  {
   "cell_type": "code",
   "execution_count": 157,
   "id": "0136bac6",
   "metadata": {},
   "outputs": [
    {
     "data": {
      "text/plain": [
       "[1, 3, 5, 9, 43]"
      ]
     },
     "execution_count": 157,
     "metadata": {},
     "output_type": "execute_result"
    }
   ],
   "source": [
    "list(output)"
   ]
  },
  {
   "cell_type": "code",
   "execution_count": 158,
   "id": "fff40549",
   "metadata": {},
   "outputs": [],
   "source": [
    "def prime1 (x):  \n",
    "    \n",
    "    if x<=1:\n",
    "        return False\n",
    "    \n",
    "    for i in range(2,x):\n",
    "        if x%i==0:\n",
    "            return False\n",
    "        \n",
    "    return True\n",
    "        \n"
   ]
  },
  {
   "cell_type": "code",
   "execution_count": 159,
   "id": "839ff61f",
   "metadata": {},
   "outputs": [
    {
     "data": {
      "text/plain": [
       "True"
      ]
     },
     "execution_count": 159,
     "metadata": {},
     "output_type": "execute_result"
    }
   ],
   "source": [
    "prime1(103)"
   ]
  },
  {
   "cell_type": "code",
   "execution_count": 160,
   "id": "f87a90bb",
   "metadata": {},
   "outputs": [
    {
     "data": {
      "text/plain": [
       "True"
      ]
     },
     "execution_count": 160,
     "metadata": {},
     "output_type": "execute_result"
    }
   ],
   "source": [
    "prime1(101)"
   ]
  },
  {
   "cell_type": "code",
   "execution_count": 161,
   "id": "1019f9d4",
   "metadata": {},
   "outputs": [
    {
     "data": {
      "text/plain": [
       "False"
      ]
     },
     "execution_count": 161,
     "metadata": {},
     "output_type": "execute_result"
    }
   ],
   "source": [
    "prime1(201)"
   ]
  },
  {
   "cell_type": "code",
   "execution_count": 162,
   "id": "b33ddd3d",
   "metadata": {},
   "outputs": [
    {
     "data": {
      "text/plain": [
       "False"
      ]
     },
     "execution_count": 162,
     "metadata": {},
     "output_type": "execute_result"
    }
   ],
   "source": [
    "prime1(102)"
   ]
  },
  {
   "cell_type": "code",
   "execution_count": 163,
   "id": "910645c2",
   "metadata": {},
   "outputs": [],
   "source": [
    "output=(filter(prime1,range(100,200)))"
   ]
  },
  {
   "cell_type": "code",
   "execution_count": 164,
   "id": "aabffb07",
   "metadata": {},
   "outputs": [
    {
     "data": {
      "text/plain": [
       "[101,\n",
       " 103,\n",
       " 107,\n",
       " 109,\n",
       " 113,\n",
       " 127,\n",
       " 131,\n",
       " 137,\n",
       " 139,\n",
       " 149,\n",
       " 151,\n",
       " 157,\n",
       " 163,\n",
       " 167,\n",
       " 173,\n",
       " 179,\n",
       " 181,\n",
       " 191,\n",
       " 193,\n",
       " 197,\n",
       " 199]"
      ]
     },
     "execution_count": 164,
     "metadata": {},
     "output_type": "execute_result"
    }
   ],
   "source": [
    "list(output)"
   ]
  },
  {
   "cell_type": "markdown",
   "id": "65990692",
   "metadata": {},
   "source": [
    "# default values in function"
   ]
  },
  {
   "cell_type": "code",
   "execution_count": 165,
   "id": "119da4c9",
   "metadata": {},
   "outputs": [],
   "source": [
    "def add(x=0,y=0):\n",
    "    \n",
    "    return x+y"
   ]
  },
  {
   "cell_type": "code",
   "execution_count": 166,
   "id": "60315d5b",
   "metadata": {},
   "outputs": [
    {
     "data": {
      "text/plain": [
       "30"
      ]
     },
     "execution_count": 166,
     "metadata": {},
     "output_type": "execute_result"
    }
   ],
   "source": [
    "add(10+20)"
   ]
  },
  {
   "cell_type": "code",
   "execution_count": 167,
   "id": "720a0916",
   "metadata": {},
   "outputs": [
    {
     "data": {
      "text/plain": [
       "10"
      ]
     },
     "execution_count": 167,
     "metadata": {},
     "output_type": "execute_result"
    }
   ],
   "source": [
    "add(10)"
   ]
  },
  {
   "cell_type": "code",
   "execution_count": 168,
   "id": "0326c87e",
   "metadata": {},
   "outputs": [
    {
     "data": {
      "text/plain": [
       "0"
      ]
     },
     "execution_count": 168,
     "metadata": {},
     "output_type": "execute_result"
    }
   ],
   "source": [
    "add()"
   ]
  },
  {
   "cell_type": "markdown",
   "id": "fb950faa",
   "metadata": {},
   "source": [
    "# list comprehension (alternate for for loop)"
   ]
  },
  {
   "cell_type": "code",
   "execution_count": 169,
   "id": "8df24ad0",
   "metadata": {},
   "outputs": [],
   "source": [
    "l=[1,2,3,4,5]  #using for loop\n",
    "l2=[]\n",
    "\n",
    "for i in l:\n",
    "    l2.append(i+1)\n",
    "    l2"
   ]
  },
  {
   "cell_type": "code",
   "execution_count": 170,
   "id": "2c26a151",
   "metadata": {},
   "outputs": [
    {
     "data": {
      "text/plain": [
       "[2, 3, 4, 5, 6]"
      ]
     },
     "execution_count": 170,
     "metadata": {},
     "output_type": "execute_result"
    }
   ],
   "source": [
    "l2"
   ]
  },
  {
   "cell_type": "code",
   "execution_count": 171,
   "id": "ac706020",
   "metadata": {},
   "outputs": [],
   "source": [
    "l=[1,2,3,4,5]  #using list comp\n",
    "l2=[]\n",
    "\n",
    "l2=[i+1 for i in l]"
   ]
  },
  {
   "cell_type": "code",
   "execution_count": 172,
   "id": "806b1304",
   "metadata": {},
   "outputs": [
    {
     "data": {
      "text/plain": [
       "[2, 3, 4, 5, 6]"
      ]
     },
     "execution_count": 172,
     "metadata": {},
     "output_type": "execute_result"
    }
   ],
   "source": [
    "l2"
   ]
  },
  {
   "cell_type": "code",
   "execution_count": 173,
   "id": "45b26edf",
   "metadata": {},
   "outputs": [
    {
     "data": {
      "text/plain": [
       "[2,\n",
       " 4,\n",
       " 6,\n",
       " 8,\n",
       " 10,\n",
       " 12,\n",
       " 14,\n",
       " 16,\n",
       " 18,\n",
       " 20,\n",
       " 22,\n",
       " 24,\n",
       " 26,\n",
       " 28,\n",
       " 30,\n",
       " 32,\n",
       " 34,\n",
       " 36,\n",
       " 38,\n",
       " 40,\n",
       " 42,\n",
       " 44,\n",
       " 46,\n",
       " 48,\n",
       " 50,\n",
       " 52,\n",
       " 54,\n",
       " 56,\n",
       " 58,\n",
       " 60,\n",
       " 62,\n",
       " 64,\n",
       " 66,\n",
       " 68,\n",
       " 70,\n",
       " 72,\n",
       " 74,\n",
       " 76,\n",
       " 78,\n",
       " 80,\n",
       " 82,\n",
       " 84,\n",
       " 86,\n",
       " 88,\n",
       " 90,\n",
       " 92,\n",
       " 94,\n",
       " 96,\n",
       " 98,\n",
       " 100,\n",
       " 102,\n",
       " 104,\n",
       " 106,\n",
       " 108,\n",
       " 110,\n",
       " 112,\n",
       " 114,\n",
       " 116,\n",
       " 118,\n",
       " 120,\n",
       " 122,\n",
       " 124,\n",
       " 126,\n",
       " 128,\n",
       " 130,\n",
       " 132,\n",
       " 134,\n",
       " 136,\n",
       " 138,\n",
       " 140,\n",
       " 142,\n",
       " 144,\n",
       " 146,\n",
       " 148,\n",
       " 150,\n",
       " 152,\n",
       " 154,\n",
       " 156,\n",
       " 158,\n",
       " 160,\n",
       " 162,\n",
       " 164,\n",
       " 166,\n",
       " 168,\n",
       " 170,\n",
       " 172,\n",
       " 174,\n",
       " 176,\n",
       " 178,\n",
       " 180,\n",
       " 182,\n",
       " 184,\n",
       " 186,\n",
       " 188,\n",
       " 190,\n",
       " 192,\n",
       " 194,\n",
       " 196,\n",
       " 198,\n",
       " 200]"
      ]
     },
     "execution_count": 173,
     "metadata": {},
     "output_type": "execute_result"
    }
   ],
   "source": [
    "l2=[2*i for i in range(1,101)]\n",
    "l2"
   ]
  },
  {
   "cell_type": "code",
   "execution_count": 174,
   "id": "f9de8479",
   "metadata": {},
   "outputs": [
    {
     "data": {
      "text/plain": [
       "[1, 13, 23, 43]"
      ]
     },
     "execution_count": 174,
     "metadata": {},
     "output_type": "execute_result"
    }
   ],
   "source": [
    "l=[1,12,13,23,43,32]\n",
    "l2=[i for i in l if i%2==1]\n",
    "l2"
   ]
  },
  {
   "cell_type": "code",
   "execution_count": 175,
   "id": "22ea20eb",
   "metadata": {},
   "outputs": [
    {
     "data": {
      "text/plain": [
       "[1, 2, 3, 4, 6, 8, 12, 24]"
      ]
     },
     "execution_count": 175,
     "metadata": {},
     "output_type": "execute_result"
    }
   ],
   "source": [
    "number=24\n",
    "l2=[i for i in range(1,number+1) if number%i==0]    #what,where,when\n",
    "l2"
   ]
  },
  {
   "cell_type": "code",
   "execution_count": 176,
   "id": "62e228ff",
   "metadata": {},
   "outputs": [
    {
     "data": {
      "text/plain": [
       "[1, 5]"
      ]
     },
     "execution_count": 176,
     "metadata": {},
     "output_type": "execute_result"
    }
   ],
   "source": [
    "a=10\n",
    "b=25\n",
    "l2=[i for i in range(1,a+1) if a%i==0 and b%i==0]    ## l2=[i for i in range(1,min(a+b)+1) if a%i==0 and b%i==0]\n",
    "l2"
   ]
  },
  {
   "cell_type": "code",
   "execution_count": 177,
   "id": "488c5bc7",
   "metadata": {},
   "outputs": [
    {
     "data": {
      "text/plain": [
       "[1, 2, 5, 10]"
      ]
     },
     "execution_count": 177,
     "metadata": {},
     "output_type": "execute_result"
    }
   ],
   "source": [
    "a=10\n",
    "b=25\n",
    "l2=[i for i in range(1,a+1) if a%i==0 or b%i==0]    ## l2=[i for i in range(1,min(a+b)+1) if a%i==0 and b%i==0]\n",
    "l2"
   ]
  },
  {
   "cell_type": "markdown",
   "id": "412075c1",
   "metadata": {},
   "source": [
    "# Lambda function (replacement of Def)"
   ]
  },
  {
   "cell_type": "code",
   "execution_count": 178,
   "id": "98b0aefc",
   "metadata": {},
   "outputs": [
    {
     "data": {
      "text/plain": [
       "10000"
      ]
     },
     "execution_count": 178,
     "metadata": {},
     "output_type": "execute_result"
    }
   ],
   "source": [
    "def fun(x):   #def function\n",
    "    return x**2\n",
    "fun(100)"
   ]
  },
  {
   "cell_type": "code",
   "execution_count": 179,
   "id": "4a194bb0",
   "metadata": {},
   "outputs": [
    {
     "data": {
      "text/plain": [
       "10000"
      ]
     },
     "execution_count": 179,
     "metadata": {},
     "output_type": "execute_result"
    }
   ],
   "source": [
    "fun=lambda x:x**2\n",
    "fun(100)"
   ]
  },
  {
   "cell_type": "code",
   "execution_count": 180,
   "id": "6ace8ab4",
   "metadata": {},
   "outputs": [
    {
     "data": {
      "text/plain": [
       "False"
      ]
     },
     "execution_count": 180,
     "metadata": {},
     "output_type": "execute_result"
    }
   ],
   "source": [
    "fun=lambda x:x%2==0   #even\n",
    "fun(3)"
   ]
  },
  {
   "cell_type": "code",
   "execution_count": 181,
   "id": "1c8ee63c",
   "metadata": {},
   "outputs": [
    {
     "data": {
      "text/plain": [
       "False"
      ]
     },
     "execution_count": 181,
     "metadata": {},
     "output_type": "execute_result"
    }
   ],
   "source": [
    "fun=lambda x:x%2==1   #odd\n",
    "fun(2)"
   ]
  },
  {
   "cell_type": "code",
   "execution_count": 182,
   "id": "d21bf0e6",
   "metadata": {},
   "outputs": [],
   "source": [
    "\n",
    "fact=lambda x: [i for i in range(1,x+1) if x%i==0]"
   ]
  },
  {
   "cell_type": "code",
   "execution_count": 183,
   "id": "2b73f3f1",
   "metadata": {},
   "outputs": [
    {
     "data": {
      "text/plain": [
       "[1, 2, 3, 4, 6, 8, 12, 24]"
      ]
     },
     "execution_count": 183,
     "metadata": {},
     "output_type": "execute_result"
    }
   ],
   "source": [
    "fact(24)"
   ]
  },
  {
   "cell_type": "markdown",
   "id": "2313b466",
   "metadata": {},
   "source": [
    "# exception handling"
   ]
  },
  {
   "cell_type": "code",
   "execution_count": 184,
   "id": "43da4e02",
   "metadata": {},
   "outputs": [],
   "source": [
    "def fun(x,y):\n",
    "    try :\n",
    "        return x+y\n",
    "    except:\n",
    "        return \"we got an error\""
   ]
  },
  {
   "cell_type": "code",
   "execution_count": 185,
   "id": "213a2248",
   "metadata": {},
   "outputs": [
    {
     "data": {
      "text/plain": [
       "5"
      ]
     },
     "execution_count": 185,
     "metadata": {},
     "output_type": "execute_result"
    }
   ],
   "source": [
    "fun(2,3)"
   ]
  },
  {
   "cell_type": "code",
   "execution_count": 186,
   "id": "eca7be41",
   "metadata": {},
   "outputs": [
    {
     "data": {
      "text/plain": [
       "'we got an error'"
      ]
     },
     "execution_count": 186,
     "metadata": {},
     "output_type": "execute_result"
    }
   ],
   "source": [
    "fun(2,\"we\")"
   ]
  },
  {
   "cell_type": "markdown",
   "id": "170bf697",
   "metadata": {},
   "source": [
    "# recorcation"
   ]
  },
  {
   "cell_type": "code",
   "execution_count": 187,
   "id": "5a359adb",
   "metadata": {},
   "outputs": [],
   "source": [
    "def fun(x):\n",
    "    \n",
    "    if x==0:\n",
    "        return 1\n",
    "    else:\n",
    "        return fun(x-1)"
   ]
  },
  {
   "cell_type": "code",
   "execution_count": 188,
   "id": "b849f58b",
   "metadata": {},
   "outputs": [
    {
     "data": {
      "text/plain": [
       "1"
      ]
     },
     "execution_count": 188,
     "metadata": {},
     "output_type": "execute_result"
    }
   ],
   "source": [
    "fun(2)"
   ]
  },
  {
   "cell_type": "code",
   "execution_count": 1,
   "id": "5d2fb2bc",
   "metadata": {},
   "outputs": [],
   "source": [
    "def fun(x):     #3!\n",
    "    \n",
    "    if x==0:\n",
    "        return 1\n",
    "    else:\n",
    "        return fun(x-1)*x"
   ]
  },
  {
   "cell_type": "code",
   "execution_count": 2,
   "id": "2408d4d9",
   "metadata": {},
   "outputs": [
    {
     "data": {
      "text/plain": [
       "120"
      ]
     },
     "execution_count": 2,
     "metadata": {},
     "output_type": "execute_result"
    }
   ],
   "source": [
    "fun(5)"
   ]
  },
  {
   "cell_type": "code",
   "execution_count": 191,
   "id": "f7c1092e",
   "metadata": {},
   "outputs": [],
   "source": [
    "# Exercise\n",
    "\n",
    "#q1 prime number function you need to optimize\n",
    "#q2 you need to write prime number function using lambda\n",
    "#q3 you need to write a function to calculate the GCD or HCF\n",
    "#q4 fibonacci series in a function"
   ]
  },
  {
   "cell_type": "code",
   "execution_count": null,
   "id": "89615d7f",
   "metadata": {},
   "outputs": [],
   "source": []
  },
  {
   "cell_type": "code",
   "execution_count": null,
   "id": "ccc1fd89",
   "metadata": {},
   "outputs": [],
   "source": []
  }
 ],
 "metadata": {
  "kernelspec": {
   "display_name": "Python 3 (ipykernel)",
   "language": "python",
   "name": "python3"
  },
  "language_info": {
   "codemirror_mode": {
    "name": "ipython",
    "version": 3
   },
   "file_extension": ".py",
   "mimetype": "text/x-python",
   "name": "python",
   "nbconvert_exporter": "python",
   "pygments_lexer": "ipython3",
   "version": "3.9.7"
  }
 },
 "nbformat": 4,
 "nbformat_minor": 5
}
